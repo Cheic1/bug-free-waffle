{
 "cells": [
  {
   "cell_type": "code",
   "execution_count": 2,
   "metadata": {},
   "outputs": [
    {
     "ename": "FileNotFoundError",
     "evalue": "[Errno 2] No such file or directory",
     "output_type": "error",
     "traceback": [
      "\u001b[0;31m---------------------------------------------------------------------------\u001b[0m",
      "\u001b[0;31mFileNotFoundError\u001b[0m                         Traceback (most recent call last)",
      "Cell \u001b[0;32mIn[2], line 62\u001b[0m\n\u001b[1;32m     59\u001b[0m         observer\u001b[38;5;241m.\u001b[39mjoin()\n\u001b[1;32m     61\u001b[0m \u001b[38;5;28;01mif\u001b[39;00m \u001b[38;5;18m__name__\u001b[39m \u001b[38;5;241m==\u001b[39m \u001b[38;5;124m\"\u001b[39m\u001b[38;5;124m__main__\u001b[39m\u001b[38;5;124m\"\u001b[39m:\n\u001b[0;32m---> 62\u001b[0m     \u001b[43mmonitora_cartella\u001b[49m\u001b[43m(\u001b[49m\u001b[43m)\u001b[49m\n",
      "Cell \u001b[0;32mIn[2], line 40\u001b[0m, in \u001b[0;36mmonitora_cartella\u001b[0;34m()\u001b[0m\n\u001b[1;32m     38\u001b[0m observer \u001b[38;5;241m=\u001b[39m Observer()\n\u001b[1;32m     39\u001b[0m observer\u001b[38;5;241m.\u001b[39mschedule(event_handler, CARTELLA_MONITORATA, recursive\u001b[38;5;241m=\u001b[39m\u001b[38;5;28;01mFalse\u001b[39;00m)\n\u001b[0;32m---> 40\u001b[0m \u001b[43mobserver\u001b[49m\u001b[38;5;241;43m.\u001b[39;49m\u001b[43mstart\u001b[49m\u001b[43m(\u001b[49m\u001b[43m)\u001b[49m\n\u001b[1;32m     41\u001b[0m \u001b[38;5;28mprint\u001b[39m(\u001b[38;5;124mf\u001b[39m\u001b[38;5;124m\"\u001b[39m\u001b[38;5;124mMonitoraggio della cartella \u001b[39m\u001b[38;5;132;01m{\u001b[39;00mCARTELLA_MONITORATA\u001b[38;5;132;01m}\u001b[39;00m\u001b[38;5;124m avviato.\u001b[39m\u001b[38;5;124m\"\u001b[39m)\n\u001b[1;32m     43\u001b[0m \u001b[38;5;28;01mtry\u001b[39;00m:\n",
      "File \u001b[0;32m/usr/local/python/3.10.13/lib/python3.10/site-packages/watchdog/observers/api.py:280\u001b[0m, in \u001b[0;36mBaseObserver.start\u001b[0;34m(self)\u001b[0m\n\u001b[1;32m    278\u001b[0m \u001b[38;5;28;01mfor\u001b[39;00m emitter \u001b[38;5;129;01min\u001b[39;00m \u001b[38;5;28mself\u001b[39m\u001b[38;5;241m.\u001b[39m_emitters\u001b[38;5;241m.\u001b[39mcopy():\n\u001b[1;32m    279\u001b[0m     \u001b[38;5;28;01mtry\u001b[39;00m:\n\u001b[0;32m--> 280\u001b[0m         \u001b[43memitter\u001b[49m\u001b[38;5;241;43m.\u001b[39;49m\u001b[43mstart\u001b[49m\u001b[43m(\u001b[49m\u001b[43m)\u001b[49m\n\u001b[1;32m    281\u001b[0m     \u001b[38;5;28;01mexcept\u001b[39;00m \u001b[38;5;167;01mException\u001b[39;00m:\n\u001b[1;32m    282\u001b[0m         \u001b[38;5;28mself\u001b[39m\u001b[38;5;241m.\u001b[39m_remove_emitter(emitter)\n",
      "File \u001b[0;32m/usr/local/python/3.10.13/lib/python3.10/site-packages/watchdog/utils/__init__.py:92\u001b[0m, in \u001b[0;36mBaseThread.start\u001b[0;34m(self)\u001b[0m\n\u001b[1;32m     91\u001b[0m \u001b[38;5;28;01mdef\u001b[39;00m \u001b[38;5;21mstart\u001b[39m(\u001b[38;5;28mself\u001b[39m):\n\u001b[0;32m---> 92\u001b[0m     \u001b[38;5;28;43mself\u001b[39;49m\u001b[38;5;241;43m.\u001b[39;49m\u001b[43mon_thread_start\u001b[49m\u001b[43m(\u001b[49m\u001b[43m)\u001b[49m\n\u001b[1;32m     93\u001b[0m     threading\u001b[38;5;241m.\u001b[39mThread\u001b[38;5;241m.\u001b[39mstart(\u001b[38;5;28mself\u001b[39m)\n",
      "File \u001b[0;32m/usr/local/python/3.10.13/lib/python3.10/site-packages/watchdog/observers/inotify.py:125\u001b[0m, in \u001b[0;36mInotifyEmitter.on_thread_start\u001b[0;34m(self)\u001b[0m\n\u001b[1;32m    123\u001b[0m path \u001b[38;5;241m=\u001b[39m os\u001b[38;5;241m.\u001b[39mfsencode(\u001b[38;5;28mself\u001b[39m\u001b[38;5;241m.\u001b[39mwatch\u001b[38;5;241m.\u001b[39mpath)\n\u001b[1;32m    124\u001b[0m event_mask \u001b[38;5;241m=\u001b[39m \u001b[38;5;28mself\u001b[39m\u001b[38;5;241m.\u001b[39mget_event_mask_from_filter()\n\u001b[0;32m--> 125\u001b[0m \u001b[38;5;28mself\u001b[39m\u001b[38;5;241m.\u001b[39m_inotify \u001b[38;5;241m=\u001b[39m \u001b[43mInotifyBuffer\u001b[49m\u001b[43m(\u001b[49m\u001b[43mpath\u001b[49m\u001b[43m,\u001b[49m\u001b[43m \u001b[49m\u001b[38;5;28;43mself\u001b[39;49m\u001b[38;5;241;43m.\u001b[39;49m\u001b[43mwatch\u001b[49m\u001b[38;5;241;43m.\u001b[39;49m\u001b[43mis_recursive\u001b[49m\u001b[43m,\u001b[49m\u001b[43m \u001b[49m\u001b[43mevent_mask\u001b[49m\u001b[43m)\u001b[49m\n",
      "File \u001b[0;32m/usr/local/python/3.10.13/lib/python3.10/site-packages/watchdog/observers/inotify_buffer.py:37\u001b[0m, in \u001b[0;36mInotifyBuffer.__init__\u001b[0;34m(self, path, recursive, event_mask)\u001b[0m\n\u001b[1;32m     35\u001b[0m \u001b[38;5;28msuper\u001b[39m()\u001b[38;5;241m.\u001b[39m\u001b[38;5;21m__init__\u001b[39m()\n\u001b[1;32m     36\u001b[0m \u001b[38;5;28mself\u001b[39m\u001b[38;5;241m.\u001b[39m_queue \u001b[38;5;241m=\u001b[39m DelayedQueue[InotifyEvent](\u001b[38;5;28mself\u001b[39m\u001b[38;5;241m.\u001b[39mdelay)\n\u001b[0;32m---> 37\u001b[0m \u001b[38;5;28mself\u001b[39m\u001b[38;5;241m.\u001b[39m_inotify \u001b[38;5;241m=\u001b[39m \u001b[43mInotify\u001b[49m\u001b[43m(\u001b[49m\u001b[43mpath\u001b[49m\u001b[43m,\u001b[49m\u001b[43m \u001b[49m\u001b[43mrecursive\u001b[49m\u001b[43m,\u001b[49m\u001b[43m \u001b[49m\u001b[43mevent_mask\u001b[49m\u001b[43m)\u001b[49m\n\u001b[1;32m     38\u001b[0m \u001b[38;5;28mself\u001b[39m\u001b[38;5;241m.\u001b[39mstart()\n",
      "File \u001b[0;32m/usr/local/python/3.10.13/lib/python3.10/site-packages/watchdog/observers/inotify_c.py:176\u001b[0m, in \u001b[0;36mInotify.__init__\u001b[0;34m(self, path, recursive, event_mask)\u001b[0m\n\u001b[1;32m    174\u001b[0m     \u001b[38;5;28mself\u001b[39m\u001b[38;5;241m.\u001b[39m_add_dir_watch(path, recursive, event_mask)\n\u001b[1;32m    175\u001b[0m \u001b[38;5;28;01melse\u001b[39;00m:\n\u001b[0;32m--> 176\u001b[0m     \u001b[38;5;28;43mself\u001b[39;49m\u001b[38;5;241;43m.\u001b[39;49m\u001b[43m_add_watch\u001b[49m\u001b[43m(\u001b[49m\u001b[43mpath\u001b[49m\u001b[43m,\u001b[49m\u001b[43m \u001b[49m\u001b[43mevent_mask\u001b[49m\u001b[43m)\u001b[49m\n\u001b[1;32m    177\u001b[0m \u001b[38;5;28mself\u001b[39m\u001b[38;5;241m.\u001b[39m_moved_from_events \u001b[38;5;241m=\u001b[39m {}\n",
      "File \u001b[0;32m/usr/local/python/3.10.13/lib/python3.10/site-packages/watchdog/observers/inotify_c.py:401\u001b[0m, in \u001b[0;36mInotify._add_watch\u001b[0;34m(self, path, mask)\u001b[0m\n\u001b[1;32m    399\u001b[0m wd \u001b[38;5;241m=\u001b[39m inotify_add_watch(\u001b[38;5;28mself\u001b[39m\u001b[38;5;241m.\u001b[39m_inotify_fd, path, mask)\n\u001b[1;32m    400\u001b[0m \u001b[38;5;28;01mif\u001b[39;00m wd \u001b[38;5;241m==\u001b[39m \u001b[38;5;241m-\u001b[39m\u001b[38;5;241m1\u001b[39m:\n\u001b[0;32m--> 401\u001b[0m     \u001b[43mInotify\u001b[49m\u001b[38;5;241;43m.\u001b[39;49m\u001b[43m_raise_error\u001b[49m\u001b[43m(\u001b[49m\u001b[43m)\u001b[49m\n\u001b[1;32m    402\u001b[0m \u001b[38;5;28mself\u001b[39m\u001b[38;5;241m.\u001b[39m_wd_for_path[path] \u001b[38;5;241m=\u001b[39m wd\n\u001b[1;32m    403\u001b[0m \u001b[38;5;28mself\u001b[39m\u001b[38;5;241m.\u001b[39m_path_for_wd[wd] \u001b[38;5;241m=\u001b[39m path\n",
      "File \u001b[0;32m/usr/local/python/3.10.13/lib/python3.10/site-packages/watchdog/observers/inotify_c.py:417\u001b[0m, in \u001b[0;36mInotify._raise_error\u001b[0;34m()\u001b[0m\n\u001b[1;32m    415\u001b[0m     \u001b[38;5;28;01mraise\u001b[39;00m \u001b[38;5;167;01mOSError\u001b[39;00m(errno\u001b[38;5;241m.\u001b[39mEMFILE, \u001b[38;5;124m\"\u001b[39m\u001b[38;5;124minotify instance limit reached\u001b[39m\u001b[38;5;124m\"\u001b[39m)\n\u001b[1;32m    416\u001b[0m \u001b[38;5;28;01melif\u001b[39;00m err \u001b[38;5;241m!=\u001b[39m errno\u001b[38;5;241m.\u001b[39mEACCES:\n\u001b[0;32m--> 417\u001b[0m     \u001b[38;5;28;01mraise\u001b[39;00m \u001b[38;5;167;01mOSError\u001b[39;00m(err, os\u001b[38;5;241m.\u001b[39mstrerror(err))\n",
      "\u001b[0;31mFileNotFoundError\u001b[0m: [Errno 2] No such file or directory"
     ]
    }
   ],
   "source": [
    "import os\n",
    "import time\n",
    "import shutil\n",
    "import telebot\n",
    "from watchdog.observers import Observer\n",
    "from watchdog.events import FileSystemEventHandler\n",
    "\n",
    "# Configurazione\n",
    "CARTELLA_MONITORATA = \"/percorso/della/cartella/da/monitorare\"\n",
    "FILE_PERCORSI = \"percorsi_file.txt\"\n",
    "TOKEN_BOT = \"il_tuo_token_bot_telegram\"\n",
    "CHAT_ID = \"id_della_chat_telegram\"\n",
    "\n",
    "bot = telebot.TeleBot(TOKEN_BOT)\n",
    "\n",
    "def salva_percorso(percorso):\n",
    "    with open(FILE_PERCORSI, \"a\") as file:\n",
    "        file.write(percorso + \"\\n\")\n",
    "\n",
    "def invia_file_telegram(percorso):\n",
    "    try:\n",
    "        with open(percorso, \"rb\") as file:\n",
    "            bot.send_document(CHAT_ID, file)\n",
    "        print(f\"File inviato con successo: {percorso}\")\n",
    "    except Exception as e:\n",
    "        print(f\"Errore nell'invio del file: {e}\")\n",
    "\n",
    "class NuovoFileHandler(FileSystemEventHandler):\n",
    "    def on_created(self, event):\n",
    "        if not event.is_directory:\n",
    "            percorso = event.src_path\n",
    "            print(f\"Nuovo file rilevato: {percorso}\")\n",
    "            salva_percorso(percorso)\n",
    "            invia_file_telegram(percorso)\n",
    "\n",
    "def monitora_cartella():\n",
    "    event_handler = NuovoFileHandler()\n",
    "    observer = Observer()\n",
    "    observer.schedule(event_handler, CARTELLA_MONITORATA, recursive=False)\n",
    "    observer.start()\n",
    "    print(f\"Monitoraggio della cartella {CARTELLA_MONITORATA} avviato.\")\n",
    "    \n",
    "    try:\n",
    "        while True:\n",
    "            comando = input(\"Premi 'a' per aggiornare manualmente o 'q' per uscire: \")\n",
    "            if comando.lower() == 'a':\n",
    "                percorso = input(\"Inserisci il percorso del file da inviare: \")\n",
    "                if os.path.exists(percorso):\n",
    "                    salva_percorso(percorso)\n",
    "                    invia_file_telegram(percorso)\n",
    "                else:\n",
    "                    print(\"Percorso non valido.\")\n",
    "            elif comando.lower() == 'q':\n",
    "                break\n",
    "    except KeyboardInterrupt:\n",
    "        pass\n",
    "    finally:\n",
    "        observer.stop()\n",
    "        observer.join()\n",
    "\n",
    "if __name__ == \"__main__\":\n",
    "    monitora_cartella()"
   ]
  }
 ],
 "metadata": {
  "kernelspec": {
   "display_name": "Python 3",
   "language": "python",
   "name": "python3"
  },
  "language_info": {
   "codemirror_mode": {
    "name": "ipython",
    "version": 3
   },
   "file_extension": ".py",
   "mimetype": "text/x-python",
   "name": "python",
   "nbconvert_exporter": "python",
   "pygments_lexer": "ipython3",
   "version": "3.10.13"
  }
 },
 "nbformat": 4,
 "nbformat_minor": 2
}
